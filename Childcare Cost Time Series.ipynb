{
 "cells": [
  {
   "cell_type": "code",
   "execution_count": 1,
   "id": "29aab390",
   "metadata": {},
   "outputs": [
    {
     "data": {
      "text/html": [
       "<div>\n",
       "<style scoped>\n",
       "    .dataframe tbody tr th:only-of-type {\n",
       "        vertical-align: middle;\n",
       "    }\n",
       "\n",
       "    .dataframe tbody tr th {\n",
       "        vertical-align: top;\n",
       "    }\n",
       "\n",
       "    .dataframe thead th {\n",
       "        text-align: right;\n",
       "    }\n",
       "</style>\n",
       "<table border=\"1\" class=\"dataframe\">\n",
       "  <thead>\n",
       "    <tr style=\"text-align: right;\">\n",
       "      <th></th>\n",
       "      <th>Year</th>\n",
       "      <th>Age Group</th>\n",
       "      <th>Child Care Facility</th>\n",
       "      <th>Provider Rate</th>\n",
       "    </tr>\n",
       "  </thead>\n",
       "  <tbody>\n",
       "    <tr>\n",
       "      <th>1</th>\n",
       "      <td>2000</td>\n",
       "      <td>Infants</td>\n",
       "      <td>Family Child Care Homes</td>\n",
       "      <td>477</td>\n",
       "    </tr>\n",
       "    <tr>\n",
       "      <th>2</th>\n",
       "      <td>2000</td>\n",
       "      <td>Infants</td>\n",
       "      <td>Licensed Center</td>\n",
       "      <td>631</td>\n",
       "    </tr>\n",
       "    <tr>\n",
       "      <th>3</th>\n",
       "      <td>2000</td>\n",
       "      <td>Toddler</td>\n",
       "      <td>Family Child Care Homes</td>\n",
       "      <td>444</td>\n",
       "    </tr>\n",
       "    <tr>\n",
       "      <th>4</th>\n",
       "      <td>2000</td>\n",
       "      <td>Toddler</td>\n",
       "      <td>Licensed Center</td>\n",
       "      <td>540</td>\n",
       "    </tr>\n",
       "    <tr>\n",
       "      <th>5</th>\n",
       "      <td>2000</td>\n",
       "      <td>Preschool</td>\n",
       "      <td>Family Child Care Homes</td>\n",
       "      <td>425</td>\n",
       "    </tr>\n",
       "    <tr>\n",
       "      <th>...</th>\n",
       "      <td>...</td>\n",
       "      <td>...</td>\n",
       "      <td>...</td>\n",
       "      <td>...</td>\n",
       "    </tr>\n",
       "    <tr>\n",
       "      <th>156</th>\n",
       "      <td>2019</td>\n",
       "      <td>Toddler</td>\n",
       "      <td>Licensed Center</td>\n",
       "      <td>1040</td>\n",
       "    </tr>\n",
       "    <tr>\n",
       "      <th>157</th>\n",
       "      <td>2019</td>\n",
       "      <td>Preschool</td>\n",
       "      <td>Family Child Care Homes</td>\n",
       "      <td>758</td>\n",
       "    </tr>\n",
       "    <tr>\n",
       "      <th>158</th>\n",
       "      <td>2019</td>\n",
       "      <td>Preschool</td>\n",
       "      <td>Licensed Center</td>\n",
       "      <td>923</td>\n",
       "    </tr>\n",
       "    <tr>\n",
       "      <th>159</th>\n",
       "      <td>2019</td>\n",
       "      <td>School Age</td>\n",
       "      <td>Family Child Care Homes</td>\n",
       "      <td>433</td>\n",
       "    </tr>\n",
       "    <tr>\n",
       "      <th>160</th>\n",
       "      <td>2019</td>\n",
       "      <td>School Age</td>\n",
       "      <td>Licensed Center</td>\n",
       "      <td>550</td>\n",
       "    </tr>\n",
       "  </tbody>\n",
       "</table>\n",
       "<p>160 rows × 4 columns</p>\n",
       "</div>"
      ],
      "text/plain": [
       "0    Year   Age Group      Child Care Facility Provider Rate\n",
       "1    2000     Infants  Family Child Care Homes           477\n",
       "2    2000     Infants          Licensed Center           631\n",
       "3    2000     Toddler  Family Child Care Homes           444\n",
       "4    2000     Toddler          Licensed Center           540\n",
       "5    2000   Preschool  Family Child Care Homes           425\n",
       "..    ...         ...                      ...           ...\n",
       "156  2019     Toddler          Licensed Center          1040\n",
       "157  2019   Preschool  Family Child Care Homes           758\n",
       "158  2019   Preschool          Licensed Center           923\n",
       "159  2019  School Age  Family Child Care Homes           433\n",
       "160  2019  School Age          Licensed Center           550\n",
       "\n",
       "[160 rows x 4 columns]"
      ]
     },
     "execution_count": 1,
     "metadata": {},
     "output_type": "execute_result"
    }
   ],
   "source": [
    "import warnings\n",
    "warnings.filterwarnings(\"ignore\")\n",
    "#read the dataset\n",
    "import pandas as pd\n",
    "df = pd.read_csv(\"childcarecosts.csv\", header=[0])\n",
    "\n",
    "#Replace header with first row\n",
    "new_header = df.iloc[0] \n",
    "df = df[1:] \n",
    "df.columns = new_header \n",
    "\n",
    "df"
   ]
  },
  {
   "cell_type": "code",
   "execution_count": 2,
   "id": "e2954a83",
   "metadata": {},
   "outputs": [
    {
     "data": {
      "text/html": [
       "<div>\n",
       "<style scoped>\n",
       "    .dataframe tbody tr th:only-of-type {\n",
       "        vertical-align: middle;\n",
       "    }\n",
       "\n",
       "    .dataframe tbody tr th {\n",
       "        vertical-align: top;\n",
       "    }\n",
       "\n",
       "    .dataframe thead th {\n",
       "        text-align: right;\n",
       "    }\n",
       "</style>\n",
       "<table border=\"1\" class=\"dataframe\">\n",
       "  <thead>\n",
       "    <tr style=\"text-align: right;\">\n",
       "      <th></th>\n",
       "      <th>Year</th>\n",
       "      <th>Age Group</th>\n",
       "      <th>Child Care Facility</th>\n",
       "      <th>Provider Rate</th>\n",
       "    </tr>\n",
       "  </thead>\n",
       "  <tbody>\n",
       "    <tr>\n",
       "      <th>1</th>\n",
       "      <td>2000-01-01</td>\n",
       "      <td>Infants</td>\n",
       "      <td>Family Child Care Homes</td>\n",
       "      <td>477</td>\n",
       "    </tr>\n",
       "    <tr>\n",
       "      <th>2</th>\n",
       "      <td>2000-01-01</td>\n",
       "      <td>Infants</td>\n",
       "      <td>Licensed Center</td>\n",
       "      <td>631</td>\n",
       "    </tr>\n",
       "    <tr>\n",
       "      <th>3</th>\n",
       "      <td>2000-01-01</td>\n",
       "      <td>Toddler</td>\n",
       "      <td>Family Child Care Homes</td>\n",
       "      <td>444</td>\n",
       "    </tr>\n",
       "    <tr>\n",
       "      <th>4</th>\n",
       "      <td>2000-01-01</td>\n",
       "      <td>Toddler</td>\n",
       "      <td>Licensed Center</td>\n",
       "      <td>540</td>\n",
       "    </tr>\n",
       "    <tr>\n",
       "      <th>5</th>\n",
       "      <td>2000-01-01</td>\n",
       "      <td>Preschool</td>\n",
       "      <td>Family Child Care Homes</td>\n",
       "      <td>425</td>\n",
       "    </tr>\n",
       "    <tr>\n",
       "      <th>...</th>\n",
       "      <td>...</td>\n",
       "      <td>...</td>\n",
       "      <td>...</td>\n",
       "      <td>...</td>\n",
       "    </tr>\n",
       "    <tr>\n",
       "      <th>156</th>\n",
       "      <td>2019-01-01</td>\n",
       "      <td>Toddler</td>\n",
       "      <td>Licensed Center</td>\n",
       "      <td>1040</td>\n",
       "    </tr>\n",
       "    <tr>\n",
       "      <th>157</th>\n",
       "      <td>2019-01-01</td>\n",
       "      <td>Preschool</td>\n",
       "      <td>Family Child Care Homes</td>\n",
       "      <td>758</td>\n",
       "    </tr>\n",
       "    <tr>\n",
       "      <th>158</th>\n",
       "      <td>2019-01-01</td>\n",
       "      <td>Preschool</td>\n",
       "      <td>Licensed Center</td>\n",
       "      <td>923</td>\n",
       "    </tr>\n",
       "    <tr>\n",
       "      <th>159</th>\n",
       "      <td>2019-01-01</td>\n",
       "      <td>School Age</td>\n",
       "      <td>Family Child Care Homes</td>\n",
       "      <td>433</td>\n",
       "    </tr>\n",
       "    <tr>\n",
       "      <th>160</th>\n",
       "      <td>2019-01-01</td>\n",
       "      <td>School Age</td>\n",
       "      <td>Licensed Center</td>\n",
       "      <td>550</td>\n",
       "    </tr>\n",
       "  </tbody>\n",
       "</table>\n",
       "<p>160 rows × 4 columns</p>\n",
       "</div>"
      ],
      "text/plain": [
       "0          Year   Age Group      Child Care Facility Provider Rate\n",
       "1    2000-01-01     Infants  Family Child Care Homes           477\n",
       "2    2000-01-01     Infants          Licensed Center           631\n",
       "3    2000-01-01     Toddler  Family Child Care Homes           444\n",
       "4    2000-01-01     Toddler          Licensed Center           540\n",
       "5    2000-01-01   Preschool  Family Child Care Homes           425\n",
       "..          ...         ...                      ...           ...\n",
       "156  2019-01-01     Toddler          Licensed Center          1040\n",
       "157  2019-01-01   Preschool  Family Child Care Homes           758\n",
       "158  2019-01-01   Preschool          Licensed Center           923\n",
       "159  2019-01-01  School Age  Family Child Care Homes           433\n",
       "160  2019-01-01  School Age          Licensed Center           550\n",
       "\n",
       "[160 rows x 4 columns]"
      ]
     },
     "execution_count": 2,
     "metadata": {},
     "output_type": "execute_result"
    }
   ],
   "source": [
    "#convert date column strings to datetime objects\n",
    "df['Year'] = pd.to_datetime(df['Year']).dt.date\n",
    "df"
   ]
  },
  {
   "cell_type": "code",
   "execution_count": 3,
   "id": "5946308c",
   "metadata": {},
   "outputs": [],
   "source": [
    "#convert Provider Rate column strings to floats\n",
    "for i in range(df.shape[0]):\n",
    "    rev = df.iloc[i,3]\n",
    "    rev1 = float(rev)\n",
    "    \n",
    "    df.iloc[i,3] = rev1"
   ]
  },
  {
   "cell_type": "code",
   "execution_count": 4,
   "id": "100d3b10",
   "metadata": {},
   "outputs": [
    {
     "data": {
      "text/html": [
       "<div>\n",
       "<style scoped>\n",
       "    .dataframe tbody tr th:only-of-type {\n",
       "        vertical-align: middle;\n",
       "    }\n",
       "\n",
       "    .dataframe tbody tr th {\n",
       "        vertical-align: top;\n",
       "    }\n",
       "\n",
       "    .dataframe thead th {\n",
       "        text-align: right;\n",
       "    }\n",
       "</style>\n",
       "<table border=\"1\" class=\"dataframe\">\n",
       "  <thead>\n",
       "    <tr style=\"text-align: right;\">\n",
       "      <th></th>\n",
       "      <th>Year</th>\n",
       "      <th>Age Group</th>\n",
       "      <th>Provider Rate</th>\n",
       "    </tr>\n",
       "    <tr>\n",
       "      <th>Child Care Facility</th>\n",
       "      <th></th>\n",
       "      <th></th>\n",
       "      <th></th>\n",
       "    </tr>\n",
       "  </thead>\n",
       "  <tbody>\n",
       "    <tr>\n",
       "      <th>Family Child Care Homes</th>\n",
       "      <td>80</td>\n",
       "      <td>80</td>\n",
       "      <td>80</td>\n",
       "    </tr>\n",
       "    <tr>\n",
       "      <th>Licensed Center</th>\n",
       "      <td>80</td>\n",
       "      <td>80</td>\n",
       "      <td>80</td>\n",
       "    </tr>\n",
       "  </tbody>\n",
       "</table>\n",
       "</div>"
      ],
      "text/plain": [
       "0                        Year  Age Group  Provider Rate\n",
       "Child Care Facility                                    \n",
       "Family Child Care Homes    80         80             80\n",
       "Licensed Center            80         80             80"
      ]
     },
     "execution_count": 4,
     "metadata": {},
     "output_type": "execute_result"
    }
   ],
   "source": [
    "#counting for each website\n",
    "df.groupby(\"Child Care Facility\").count()"
   ]
  },
  {
   "cell_type": "code",
   "execution_count": 5,
   "id": "688a2aa6",
   "metadata": {},
   "outputs": [
    {
     "data": {
      "text/html": [
       "<div>\n",
       "<style scoped>\n",
       "    .dataframe tbody tr th:only-of-type {\n",
       "        vertical-align: middle;\n",
       "    }\n",
       "\n",
       "    .dataframe tbody tr th {\n",
       "        vertical-align: top;\n",
       "    }\n",
       "\n",
       "    .dataframe thead th {\n",
       "        text-align: right;\n",
       "    }\n",
       "</style>\n",
       "<table border=\"1\" class=\"dataframe\">\n",
       "  <thead>\n",
       "    <tr style=\"text-align: right;\">\n",
       "      <th></th>\n",
       "      <th>Year</th>\n",
       "      <th>Age Group</th>\n",
       "      <th>Child Care Facility</th>\n",
       "      <th>Provider Rate</th>\n",
       "    </tr>\n",
       "  </thead>\n",
       "  <tbody>\n",
       "    <tr>\n",
       "      <th>1</th>\n",
       "      <td>2000-01-01</td>\n",
       "      <td>Infants</td>\n",
       "      <td>Family Child Care Homes</td>\n",
       "      <td>477.0</td>\n",
       "    </tr>\n",
       "    <tr>\n",
       "      <th>9</th>\n",
       "      <td>2001-01-01</td>\n",
       "      <td>Infants</td>\n",
       "      <td>Family Child Care Homes</td>\n",
       "      <td>498.0</td>\n",
       "    </tr>\n",
       "    <tr>\n",
       "      <th>17</th>\n",
       "      <td>2002-01-01</td>\n",
       "      <td>Infants</td>\n",
       "      <td>Family Child Care Homes</td>\n",
       "      <td>542.0</td>\n",
       "    </tr>\n",
       "    <tr>\n",
       "      <th>25</th>\n",
       "      <td>2003-01-01</td>\n",
       "      <td>Infants</td>\n",
       "      <td>Family Child Care Homes</td>\n",
       "      <td>542.0</td>\n",
       "    </tr>\n",
       "    <tr>\n",
       "      <th>33</th>\n",
       "      <td>2004-01-01</td>\n",
       "      <td>Infants</td>\n",
       "      <td>Family Child Care Homes</td>\n",
       "      <td>542.0</td>\n",
       "    </tr>\n",
       "    <tr>\n",
       "      <th>41</th>\n",
       "      <td>2005-01-01</td>\n",
       "      <td>Infants</td>\n",
       "      <td>Family Child Care Homes</td>\n",
       "      <td>542.0</td>\n",
       "    </tr>\n",
       "    <tr>\n",
       "      <th>49</th>\n",
       "      <td>2006-01-01</td>\n",
       "      <td>Infants</td>\n",
       "      <td>Family Child Care Homes</td>\n",
       "      <td>587.0</td>\n",
       "    </tr>\n",
       "    <tr>\n",
       "      <th>57</th>\n",
       "      <td>2007-01-01</td>\n",
       "      <td>Infants</td>\n",
       "      <td>Family Child Care Homes</td>\n",
       "      <td>607.0</td>\n",
       "    </tr>\n",
       "    <tr>\n",
       "      <th>65</th>\n",
       "      <td>2008-01-01</td>\n",
       "      <td>Infants</td>\n",
       "      <td>Family Child Care Homes</td>\n",
       "      <td>650.0</td>\n",
       "    </tr>\n",
       "    <tr>\n",
       "      <th>73</th>\n",
       "      <td>2009-01-01</td>\n",
       "      <td>Infants</td>\n",
       "      <td>Family Child Care Homes</td>\n",
       "      <td>650.0</td>\n",
       "    </tr>\n",
       "    <tr>\n",
       "      <th>81</th>\n",
       "      <td>2010-01-01</td>\n",
       "      <td>Infants</td>\n",
       "      <td>Family Child Care Homes</td>\n",
       "      <td>675.0</td>\n",
       "    </tr>\n",
       "    <tr>\n",
       "      <th>89</th>\n",
       "      <td>2011-01-01</td>\n",
       "      <td>Infants</td>\n",
       "      <td>Family Child Care Homes</td>\n",
       "      <td>758.0</td>\n",
       "    </tr>\n",
       "    <tr>\n",
       "      <th>97</th>\n",
       "      <td>2012-01-01</td>\n",
       "      <td>Infants</td>\n",
       "      <td>Family Child Care Homes</td>\n",
       "      <td>737.0</td>\n",
       "    </tr>\n",
       "    <tr>\n",
       "      <th>105</th>\n",
       "      <td>2013-01-01</td>\n",
       "      <td>Infants</td>\n",
       "      <td>Family Child Care Homes</td>\n",
       "      <td>758.0</td>\n",
       "    </tr>\n",
       "    <tr>\n",
       "      <th>113</th>\n",
       "      <td>2014-01-01</td>\n",
       "      <td>Infants</td>\n",
       "      <td>Family Child Care Homes</td>\n",
       "      <td>758.0</td>\n",
       "    </tr>\n",
       "    <tr>\n",
       "      <th>121</th>\n",
       "      <td>2015-01-01</td>\n",
       "      <td>Infants</td>\n",
       "      <td>Family Child Care Homes</td>\n",
       "      <td>758.0</td>\n",
       "    </tr>\n",
       "    <tr>\n",
       "      <th>129</th>\n",
       "      <td>2016-01-01</td>\n",
       "      <td>Infants</td>\n",
       "      <td>Family Child Care Homes</td>\n",
       "      <td>802.0</td>\n",
       "    </tr>\n",
       "    <tr>\n",
       "      <th>137</th>\n",
       "      <td>2017-01-01</td>\n",
       "      <td>Infants</td>\n",
       "      <td>Family Child Care Homes</td>\n",
       "      <td>867.0</td>\n",
       "    </tr>\n",
       "    <tr>\n",
       "      <th>145</th>\n",
       "      <td>2018-01-01</td>\n",
       "      <td>Infants</td>\n",
       "      <td>Family Child Care Homes</td>\n",
       "      <td>888.0</td>\n",
       "    </tr>\n",
       "    <tr>\n",
       "      <th>153</th>\n",
       "      <td>2019-01-01</td>\n",
       "      <td>Infants</td>\n",
       "      <td>Family Child Care Homes</td>\n",
       "      <td>920.0</td>\n",
       "    </tr>\n",
       "  </tbody>\n",
       "</table>\n",
       "</div>"
      ],
      "text/plain": [
       "0          Year Age Group      Child Care Facility Provider Rate\n",
       "1    2000-01-01   Infants  Family Child Care Homes         477.0\n",
       "9    2001-01-01   Infants  Family Child Care Homes         498.0\n",
       "17   2002-01-01   Infants  Family Child Care Homes         542.0\n",
       "25   2003-01-01   Infants  Family Child Care Homes         542.0\n",
       "33   2004-01-01   Infants  Family Child Care Homes         542.0\n",
       "41   2005-01-01   Infants  Family Child Care Homes         542.0\n",
       "49   2006-01-01   Infants  Family Child Care Homes         587.0\n",
       "57   2007-01-01   Infants  Family Child Care Homes         607.0\n",
       "65   2008-01-01   Infants  Family Child Care Homes         650.0\n",
       "73   2009-01-01   Infants  Family Child Care Homes         650.0\n",
       "81   2010-01-01   Infants  Family Child Care Homes         675.0\n",
       "89   2011-01-01   Infants  Family Child Care Homes         758.0\n",
       "97   2012-01-01   Infants  Family Child Care Homes         737.0\n",
       "105  2013-01-01   Infants  Family Child Care Homes         758.0\n",
       "113  2014-01-01   Infants  Family Child Care Homes         758.0\n",
       "121  2015-01-01   Infants  Family Child Care Homes         758.0\n",
       "129  2016-01-01   Infants  Family Child Care Homes         802.0\n",
       "137  2017-01-01   Infants  Family Child Care Homes         867.0\n",
       "145  2018-01-01   Infants  Family Child Care Homes         888.0\n",
       "153  2019-01-01   Infants  Family Child Care Homes         920.0"
      ]
     },
     "execution_count": 5,
     "metadata": {},
     "output_type": "execute_result"
    }
   ],
   "source": [
    "#picking out Infants in FCCH\n",
    "sortedf = df.sort_values(by=['Age Group', \"Child Care Facility\"])\n",
    "\n",
    "infantsfcch = sortedf.iloc[0:20,]\n",
    "infantsfcch = infantsfcch.sort_values(by='Year')\n",
    "infantsfcch"
   ]
  },
  {
   "cell_type": "code",
   "execution_count": 11,
   "id": "7d55ea96",
   "metadata": {},
   "outputs": [
    {
     "data": {
      "image/png": "[encoded data removed]",
      "text/plain": [
       "<Figure size 432x288 with 1 Axes>"
      ]
     },
     "metadata": {
      "needs_background": "light"
     },
     "output_type": "display_data"
    }
   ],
   "source": [
    "#Plotting Costs over time\n",
    "from matplotlib import pyplot as plt\n",
    "plt.plot(infantsfcch.iloc[:,0], infantsfcch.iloc[:,3])\n",
    "plt.xlabel('Year')\n",
    "plt.ylabel('Provider Rate')\n",
    "plt.show()"
   ]
  },
  {
   "cell_type": "code",
   "execution_count": 13,
   "id": "f0170537",
   "metadata": {},
   "outputs": [
    {
     "data": {
      "image/png": "[encoded data removed]",
      "text/plain": [
       "<Figure size 432x288 with 1 Axes>"
      ]
     },
     "metadata": {
      "needs_background": "light"
     },
     "output_type": "display_data"
    }
   ],
   "source": [
    "#autocorrelation plot of the time series\n",
    "from pandas.plotting import autocorrelation_plot\n",
    "autocorrelation_plot(infantsfcch.iloc[:,3])\n",
    "plt.show()"
   ]
  },
  {
   "cell_type": "code",
   "execution_count": 14,
   "id": "0dee8d8e",
   "metadata": {},
   "outputs": [
    {
     "data": {
      "text/html": [
       "<div>\n",
       "<style scoped>\n",
       "    .dataframe tbody tr th:only-of-type {\n",
       "        vertical-align: middle;\n",
       "    }\n",
       "\n",
       "    .dataframe tbody tr th {\n",
       "        vertical-align: top;\n",
       "    }\n",
       "\n",
       "    .dataframe thead th {\n",
       "        text-align: right;\n",
       "    }\n",
       "</style>\n",
       "<table border=\"1\" class=\"dataframe\">\n",
       "  <thead>\n",
       "    <tr style=\"text-align: right;\">\n",
       "      <th></th>\n",
       "      <th>Year</th>\n",
       "      <th>Provider Rate</th>\n",
       "    </tr>\n",
       "  </thead>\n",
       "  <tbody>\n",
       "    <tr>\n",
       "      <th>1</th>\n",
       "      <td>2000-01-01</td>\n",
       "      <td>477.0</td>\n",
       "    </tr>\n",
       "    <tr>\n",
       "      <th>9</th>\n",
       "      <td>2001-01-01</td>\n",
       "      <td>498.0</td>\n",
       "    </tr>\n",
       "    <tr>\n",
       "      <th>17</th>\n",
       "      <td>2002-01-01</td>\n",
       "      <td>542.0</td>\n",
       "    </tr>\n",
       "    <tr>\n",
       "      <th>25</th>\n",
       "      <td>2003-01-01</td>\n",
       "      <td>542.0</td>\n",
       "    </tr>\n",
       "    <tr>\n",
       "      <th>33</th>\n",
       "      <td>2004-01-01</td>\n",
       "      <td>542.0</td>\n",
       "    </tr>\n",
       "  </tbody>\n",
       "</table>\n",
       "</div>"
      ],
      "text/plain": [
       "0         Year Provider Rate\n",
       "1   2000-01-01         477.0\n",
       "9   2001-01-01         498.0\n",
       "17  2002-01-01         542.0\n",
       "25  2003-01-01         542.0\n",
       "33  2004-01-01         542.0"
      ]
     },
     "execution_count": 14,
     "metadata": {},
     "output_type": "execute_result"
    }
   ],
   "source": [
    "import numpy as np\n",
    "from statsmodels.tsa.stattools import adfuller\n",
    "from statsmodels.tsa.seasonal import seasonal_decompose\n",
    "from statsmodels.tsa.arima_model import ARIMA\n",
    "from pandas.plotting import register_matplotlib_converters\n",
    "register_matplotlib_converters()\n",
    "infantsfcchlist = infantsfcch.drop(['Age Group', 'Child Care Facility'], axis=1)\n",
    "infantsfcchlist.head()"
   ]
  },
  {
   "cell_type": "code",
   "execution_count": 15,
   "id": "1e779e01",
   "metadata": {},
   "outputs": [
    {
     "data": {
      "text/html": [
       "<div>\n",
       "<style scoped>\n",
       "    .dataframe tbody tr th:only-of-type {\n",
       "        vertical-align: middle;\n",
       "    }\n",
       "\n",
       "    .dataframe tbody tr th {\n",
       "        vertical-align: top;\n",
       "    }\n",
       "\n",
       "    .dataframe thead th {\n",
       "        text-align: right;\n",
       "    }\n",
       "</style>\n",
       "<table border=\"1\" class=\"dataframe\">\n",
       "  <thead>\n",
       "    <tr style=\"text-align: right;\">\n",
       "      <th></th>\n",
       "      <th>Provider Rate</th>\n",
       "    </tr>\n",
       "    <tr>\n",
       "      <th>Year</th>\n",
       "      <th></th>\n",
       "    </tr>\n",
       "  </thead>\n",
       "  <tbody>\n",
       "    <tr>\n",
       "      <th>2000-01-01</th>\n",
       "      <td>477</td>\n",
       "    </tr>\n",
       "    <tr>\n",
       "      <th>2001-01-01</th>\n",
       "      <td>498</td>\n",
       "    </tr>\n",
       "    <tr>\n",
       "      <th>2002-01-01</th>\n",
       "      <td>542</td>\n",
       "    </tr>\n",
       "    <tr>\n",
       "      <th>2003-01-01</th>\n",
       "      <td>542</td>\n",
       "    </tr>\n",
       "    <tr>\n",
       "      <th>2004-01-01</th>\n",
       "      <td>542</td>\n",
       "    </tr>\n",
       "  </tbody>\n",
       "</table>\n",
       "</div>"
      ],
      "text/plain": [
       "0           Provider Rate\n",
       "Year                     \n",
       "2000-01-01            477\n",
       "2001-01-01            498\n",
       "2002-01-01            542\n",
       "2003-01-01            542\n",
       "2004-01-01            542"
      ]
     },
     "execution_count": 15,
     "metadata": {},
     "output_type": "execute_result"
    }
   ],
   "source": [
    "#rounding up floats\n",
    "revlist = infantsfcchlist.iloc[:,1]\n",
    "rrevlist = []\n",
    "for i in revlist:\n",
    "    rrevlist.append(round(i))\n",
    "    \n",
    "infantsfcchlist.iloc[:,1] = rrevlist\n",
    "ifccs = infantsfcchlist.groupby(\"Year\").sum()\n",
    "ifccs.head()"
   ]
  },
  {
   "cell_type": "code",
   "execution_count": 16,
   "id": "26245b64",
   "metadata": {},
   "outputs": [],
   "source": [
    "def get_stationarity(timeseries):\n",
    "    \n",
    "    # rolling statistics\n",
    "    rolling_mean = timeseries.rolling(window=12).mean()\n",
    "    rolling_std = timeseries.rolling(window=12).std()\n",
    "    \n",
    "    # rolling statistics plot\n",
    "    original = plt.plot(timeseries, color='blue', label='Original')\n",
    "    mean = plt.plot(rolling_mean, color='red', label='Rolling Mean')\n",
    "    std = plt.plot(rolling_std, color='black', label='Rolling Std')\n",
    "    plt.legend(loc='best')\n",
    "    plt.title('Rolling Mean & Standard Deviation')\n",
    "    plt.show(block=False)\n",
    "    \n",
    "    # Dickey–Fuller test:\n",
    "    result = adfuller(timeseries['Provider Rate'])\n",
    "    print('ADF Statistic: {}'.format(result[0]))\n",
    "    print('p-value: {}'.format(result[1]))\n",
    "    print('Critical Values:')\n",
    "    for key, value in result[4].items():\n",
    "        print('\\t{}: {}'.format(key, value))"
   ]
  },
  {
   "cell_type": "code",
   "execution_count": 17,
   "id": "0a21eecc",
   "metadata": {},
   "outputs": [
    {
     "data": {
      "image/png": "[encoded data removed]",
      "text/plain": [
       "<Figure size 432x288 with 1 Axes>"
      ]
     },
     "metadata": {
      "needs_background": "light"
     },
     "output_type": "display_data"
    },
    {
     "name": "stdout",
     "output_type": "stream",
     "text": [
      "ADF Statistic: -4.765844667563523\n",
      "p-value: 6.318669946506657e-05\n",
      "Critical Values:\n",
      "\t1%: -3.859073285322359\n",
      "\t5%: -3.0420456927297668\n",
      "\t10%: -2.6609064197530863\n"
     ]
    }
   ],
   "source": [
    "#Test to check if time series is stationary\n",
    "rates_log_shift = ifccs - ifccs.shift()\n",
    "rates_log_shift.dropna(inplace=True)\n",
    "get_stationarity(rates_log_shift)"
   ]
  },
  {
   "cell_type": "code",
   "execution_count": 18,
   "id": "ed15f9b7",
   "metadata": {},
   "outputs": [
    {
     "name": "stderr",
     "output_type": "stream",
     "text": [
      "/opt/anaconda3/lib/python3.8/site-packages/statsmodels/tsa/base/tsa_model.py:524: ValueWarning: No frequency information was provided, so inferred frequency AS-JAN will be used.\n",
      "  warnings.warn('No frequency information was'\n",
      "/opt/anaconda3/lib/python3.8/site-packages/statsmodels/tsa/base/tsa_model.py:524: ValueWarning: No frequency information was provided, so inferred frequency AS-JAN will be used.\n",
      "  warnings.warn('No frequency information was'\n"
     ]
    },
    {
     "data": {
      "text/plain": [
       "[<matplotlib.lines.Line2D at 0x7fd94aae79d0>]"
      ]
     },
     "execution_count": 18,
     "metadata": {},
     "output_type": "execute_result"
    },
    {
     "data": {
      "image/png": "[encoded data removed]",
      "text/plain": [
       "<Figure size 432x288 with 1 Axes>"
      ]
     },
     "metadata": {
      "needs_background": "light"
     },
     "output_type": "display_data"
    }
   ],
   "source": [
    "#Fitting the AutoRegressive Integrated Moving Average Model\n",
    "model = ARIMA(ifccs, order=(2,1,2))\n",
    "results = model.fit(disp=-1)\n",
    "plt.plot(rates_log_shift)\n",
    "plt.plot(results.fittedvalues, color='red')"
   ]
  },
  {
   "cell_type": "code",
   "execution_count": 19,
   "id": "af0d407b",
   "metadata": {},
   "outputs": [
    {
     "ename": "NameError",
     "evalue": "name 'dflist' is not defined",
     "output_type": "error",
     "traceback": [
      "\u001b[0;31m---------------------------------------------------------------------------\u001b[0m",
      "\u001b[0;31mNameError\u001b[0m                                 Traceback (most recent call last)",
      "\u001b[0;32m<ipython-input-19-522cebd5d2ab>\u001b[0m in \u001b[0;36m<module>\u001b[0;34m\u001b[0m\n\u001b[1;32m      2\u001b[0m \u001b[0mpredictions_ARIMA_diff\u001b[0m \u001b[0;34m=\u001b[0m \u001b[0mpd\u001b[0m\u001b[0;34m.\u001b[0m\u001b[0mSeries\u001b[0m\u001b[0;34m(\u001b[0m\u001b[0mresults\u001b[0m\u001b[0;34m.\u001b[0m\u001b[0mfittedvalues\u001b[0m\u001b[0;34m,\u001b[0m \u001b[0mcopy\u001b[0m\u001b[0;34m=\u001b[0m\u001b[0;32mTrue\u001b[0m\u001b[0;34m)\u001b[0m\u001b[0;34m\u001b[0m\u001b[0;34m\u001b[0m\u001b[0m\n\u001b[1;32m      3\u001b[0m \u001b[0mpredictions_ARIMA_diff_cumsum\u001b[0m \u001b[0;34m=\u001b[0m \u001b[0mpredictions_ARIMA_diff\u001b[0m\u001b[0;34m.\u001b[0m\u001b[0mcumsum\u001b[0m\u001b[0;34m(\u001b[0m\u001b[0;34m)\u001b[0m\u001b[0;34m\u001b[0m\u001b[0;34m\u001b[0m\u001b[0m\n\u001b[0;32m----> 4\u001b[0;31m \u001b[0mpredictions_ARIMA_log\u001b[0m \u001b[0;34m=\u001b[0m \u001b[0mpd\u001b[0m\u001b[0;34m.\u001b[0m\u001b[0mSeries\u001b[0m\u001b[0;34m(\u001b[0m\u001b[0mifccs\u001b[0m\u001b[0;34m[\u001b[0m\u001b[0;34m'Provider Rate'\u001b[0m\u001b[0;34m]\u001b[0m\u001b[0;34m.\u001b[0m\u001b[0miloc\u001b[0m\u001b[0;34m[\u001b[0m\u001b[0;36m0\u001b[0m\u001b[0;34m]\u001b[0m\u001b[0;34m,\u001b[0m \u001b[0mindex\u001b[0m\u001b[0;34m=\u001b[0m\u001b[0mdflist\u001b[0m\u001b[0;34m.\u001b[0m\u001b[0mindex\u001b[0m\u001b[0;34m)\u001b[0m\u001b[0;34m\u001b[0m\u001b[0;34m\u001b[0m\u001b[0m\n\u001b[0m\u001b[1;32m      5\u001b[0m \u001b[0mpredictions_ARIMA_log\u001b[0m \u001b[0;34m=\u001b[0m \u001b[0mpredictions_ARIMA_log\u001b[0m\u001b[0;34m.\u001b[0m\u001b[0madd\u001b[0m\u001b[0;34m(\u001b[0m\u001b[0mpredictions_ARIMA_diff_cumsum\u001b[0m\u001b[0;34m,\u001b[0m \u001b[0mfill_value\u001b[0m\u001b[0;34m=\u001b[0m\u001b[0;36m0\u001b[0m\u001b[0;34m)\u001b[0m\u001b[0;34m\u001b[0m\u001b[0;34m\u001b[0m\u001b[0m\n\u001b[1;32m      6\u001b[0m \u001b[0mpredictions_ARIMA\u001b[0m \u001b[0;34m=\u001b[0m \u001b[0mnp\u001b[0m\u001b[0;34m.\u001b[0m\u001b[0mexp\u001b[0m\u001b[0;34m(\u001b[0m\u001b[0mpredictions_ARIMA_log\u001b[0m\u001b[0;34m)\u001b[0m\u001b[0;34m\u001b[0m\u001b[0;34m\u001b[0m\u001b[0m\n",
      "\u001b[0;31mNameError\u001b[0m: name 'dflist' is not defined"
     ]
    }
   ],
   "source": [
    "#ARIMA predictions\n",
    "predictions_ARIMA_diff = pd.Series(results.fittedvalues, copy=True)\n",
    "predictions_ARIMA_diff_cumsum = predictions_ARIMA_diff.cumsum()\n",
    "predictions_ARIMA_log = pd.Series(ifccs['Provider Rate'].iloc[0], index=dflist.index)\n",
    "predictions_ARIMA_log = predictions_ARIMA_log.add(predictions_ARIMA_diff_cumsum, fill_value=0)\n",
    "predictions_ARIMA = np.exp(predictions_ARIMA_log)\n",
    "plt.plot(ifccs)\n",
    "plt.plot(predictions_ARIMA)\n"
   ]
  },
  {
   "cell_type": "code",
   "execution_count": 24,
   "id": "7c746f59",
   "metadata": {},
   "outputs": [
    {
     "data": {
      "image/png": "[encoded data removed]",
      "text/plain": [
       "<Figure size 432x288 with 1 Axes>"
      ]
     },
     "metadata": {
      "needs_background": "light"
     },
     "output_type": "display_data"
    }
   ],
   "source": [
    "results.plot_predict(10,25)\n",
    "cccpredlist = results.predict(19,25)"
   ]
  },
  {
   "cell_type": "code",
   "execution_count": 25,
   "id": "ff809c0b",
   "metadata": {},
   "outputs": [
    {
     "data": {
      "text/plain": [
       "2019-01-01     9.376234\n",
       "2020-01-01    11.572375\n",
       "2021-01-01     8.032767\n",
       "2022-01-01    25.114611\n",
       "2023-01-01    16.480147\n",
       "2024-01-01    26.141170\n",
       "2025-01-01    18.960612\n",
       "Freq: AS-JAN, dtype: float64"
      ]
     },
     "execution_count": 25,
     "metadata": {},
     "output_type": "execute_result"
    }
   ],
   "source": [
    "cccpredlist"
   ]
  },
  {
   "cell_type": "code",
   "execution_count": null,
   "id": "f419dded",
   "metadata": {},
   "outputs": [],
   "source": []
  }
 ],
 "metadata": {
  "kernelspec": {
   "display_name": "Python 3",
   "language": "python",
   "name": "python3"
  },
  "language_info": {
   "codemirror_mode": {
    "name": "ipython",
    "version": 3
   },
   "file_extension": ".py",
   "mimetype": "text/x-python",
   "name": "python",
   "nbconvert_exporter": "python",
   "pygments_lexer": "ipython3",
   "version": "3.8.8"
  }
 },
 "nbformat": 4,
 "nbformat_minor": 5
}
